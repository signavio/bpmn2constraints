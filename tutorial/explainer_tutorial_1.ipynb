{
 "cells": [
  {
   "cell_type": "markdown",
   "metadata": {},
   "source": [
    "# Explainer utility in BPMN2CONSTRAINTS\n",
    "\n",
    "In this notebook, we explore the `Explainer` class, designed to analyze and explain the conformance of traces against predefined constraints. Trace analysis is crucial in domains such as process mining, where understanding the behavior of system executions against expected models can uncover inefficiencies, deviations, or compliance issues.\n",
    "\n",
    "The constraints currently consists of basic regex, this is because of it's similiarities and likeness to declarative constraints used in BPMN2CONSTRAINTS\n"
   ]
  },
  {
   "cell_type": "markdown",
   "metadata": {},
   "source": [
    "## Step 1: Setup"
   ]
  },
  {
   "cell_type": "code",
   "execution_count": 1,
   "metadata": {
    "metadata": {}
   },
   "outputs": [],
   "source": [
    "import sys\n",
    "sys.path.append('../')\n",
    "from explainer.explainer_util import Trace, EventLog\n",
    "from explainer.explainer_regex import ExplainerRegex\n"
   ]
  },
  {
   "cell_type": "markdown",
   "metadata": {},
   "source": [
    "## Step 2: Basic Usage\n",
    "Let's start by creating an instance of the `Explainer` and adding a simple constraint that a valid trace should contain the sequence \"A\" followed by \"B\" and then \"C\".\n"
   ]
  },
  {
   "cell_type": "code",
   "execution_count": 2,
   "metadata": {
    "metadata": {}
   },
   "outputs": [],
   "source": [
    "explainer = ExplainerRegex()\n",
    "explainer.add_constraint('A.*B.*C')"
   ]
  },
  {
   "cell_type": "markdown",
   "metadata": {},
   "source": [
    "## Step 3: Analyzing Trace Conformance\n",
    "\n",
    "Now, we'll create a trace and check if it conforms to the constraints we've defined."
   ]
  },
  {
   "cell_type": "code",
   "execution_count": 3,
   "metadata": {
    "metadata": {}
   },
   "outputs": [
    {
     "name": "stdout",
     "output_type": "stream",
     "text": [
      "Is the trace conformant? True\n"
     ]
    }
   ],
   "source": [
    "trace = Trace(['A', 'X', 'B', 'Y', 'C'])\n",
    "is_conformant = explainer.conformant(trace)\n",
    "print(f\"Is the trace conformant? {is_conformant}\")"
   ]
  },
  {
   "cell_type": "markdown",
   "metadata": {},
   "source": [
    "## Step 4: Explaining Non-conformance\n",
    "\n",
    "If a trace is not conformant, we can use the `minimal_expl` and `counterfactual_expl` methods to understand why and how to adjust the trace.\n"
   ]
  },
  {
   "cell_type": "code",
   "execution_count": 4,
   "metadata": {
    "metadata": {}
   },
   "outputs": [
    {
     "name": "stdout",
     "output_type": "stream",
     "text": [
      "Constraint: A.*B.*C\n",
      "Trace:['A', 'C']\n",
      "Non-conformance due to: Constraint (A.*B.*C) is violated by subtrace: ('A', 'C')\n",
      "\n",
      "Addition (Added B at position 1): A->B->C\n",
      "-----------\n",
      "Constraint: A.*B.*C\n",
      "Trace:['C', 'B', 'A']\n",
      "Non-conformance due to: Constraint (A.*B.*C) is violated by subtrace: ('C', 'B')\n",
      "\n",
      "Addition (Added A at position 1): C->A->B->A\n",
      "Subtraction (Removed C from position 0): A->B->A\n",
      "Addition (Added C at position 2): A->B->C->A\n",
      "-----------\n",
      "Constraint: A.*B.*C\n",
      "Trace:['A', 'A', 'C']\n",
      "Non-conformance due to: Constraint (A.*B.*C) is violated by subtrace: ('A', 'A')\n",
      "\n",
      "Addition (Added B at position 1): A->B->A->C\n",
      "-----------\n",
      "Constraint: A.*B.*C\n",
      "Trace:['A', 'A', 'C', 'A', 'TEST', 'A', 'C', 'X', 'Y']\n",
      "Non-conformance due to: Constraint (A.*B.*C) is violated by subtrace: ('A', 'A')\n",
      "\n",
      "Subtraction (Removed TEST from position 4): A->A->C->A->A->C->X->Y\n",
      "Addition (Added B at position 1): A->B->A->C->A->A->C->X->Y\n",
      "-----------\n",
      "Constraint: AC\n",
      "Trace:['A', 'X', 'C']\n",
      "Non-conformance due to: Constraint (AC) is violated by subtrace: ('A', 'X')\n",
      "\n",
      "Subtraction (Removed X from position 1): A->C\n",
      "-----------\n",
      "constraint: AC\n",
      "constraint: B.*A.*B.*C\n",
      "constraint: A.*B.*C.*\n",
      "constraint: A.*D.*B*\n",
      "constraint: A[^D]*B\n",
      "constraint: B.*[^X].*\n",
      "Trace:['A', 'X', 'C']\n",
      "Non-conformance due to: Constraint (AC) is violated by subtrace: ('A', 'X')\n",
      "\n",
      "Subtraction (Removed X from position 1): A->C\n"
     ]
    }
   ],
   "source": [
    "non_conformant_trace = Trace(['A', 'C'])\n",
    "print('Constraint: A.*B.*C')\n",
    "print('Trace:' + str(non_conformant_trace.nodes))\n",
    "print(explainer.minimal_expl(non_conformant_trace))\n",
    "print(explainer.counterfactual_expl(non_conformant_trace))\n",
    "\n",
    "non_conformant_trace = Trace(['C', 'B', 'A'])\n",
    "print('-----------')\n",
    "print('Constraint: A.*B.*C')\n",
    "print('Trace:' + str(non_conformant_trace.nodes))\n",
    "print(explainer.minimal_expl(non_conformant_trace))\n",
    "print(explainer.counterfactual_expl(non_conformant_trace))\n",
    "\n",
    "non_conformant_trace = Trace(['A','A','C'])\n",
    "print('-----------')\n",
    "print('Constraint: A.*B.*C')\n",
    "print('Trace:' + str(non_conformant_trace.nodes))\n",
    "print(explainer.minimal_expl(non_conformant_trace))\n",
    "print(explainer.counterfactual_expl(non_conformant_trace))\n",
    "\n",
    "\n",
    "non_conformant_trace = Trace(['A','A','C','A','TEST','A','C', 'X', 'Y']) \n",
    "print('-----------')\n",
    "print('Constraint: A.*B.*C')\n",
    "print('Trace:' + str(non_conformant_trace.nodes))\n",
    "print(explainer.minimal_expl(non_conformant_trace))\n",
    "print(explainer.counterfactual_expl(non_conformant_trace))\n",
    "\n",
    "\n",
    "explainer.remove_constraint(0)\n",
    "explainer.add_constraint('AC')\n",
    "non_conformant_trace = Trace(['A', 'X', 'C']) #Substraction\n",
    "print('-----------')\n",
    "print('Constraint: AC')\n",
    "print('Trace:' + str(non_conformant_trace.nodes))\n",
    "print(explainer.minimal_expl(non_conformant_trace))\n",
    "print(explainer.counterfactual_expl(non_conformant_trace))\n",
    "print('-----------')\n",
    "\n",
    "explainer.add_constraint('B.*A.*B.*C')\n",
    "explainer.add_constraint('A.*B.*C.*')\n",
    "explainer.add_constraint('A.*D.*B*')\n",
    "explainer.add_constraint('A[^D]*B')\n",
    "explainer.add_constraint('B.*[^X].*')\n",
    "non_conformant_trace = Trace(['A', 'X', 'C']) #Substraction\n",
    "for con in explainer.constraints:\n",
    "    print(f'constraint: {con}')\n",
    "print('Trace:' + str(non_conformant_trace.nodes))\n",
    "print(explainer.minimal_expl(non_conformant_trace))\n",
    "print(explainer.counterfactual_expl(non_conformant_trace))\n",
    "\n",
    "\n"
   ]
  },
  {
   "cell_type": "markdown",
   "metadata": {},
   "source": [
    "## Step 5: Generating minimal solutions"
   ]
  },
  {
   "cell_type": "code",
   "execution_count": 5,
   "metadata": {
    "metadata": {}
   },
   "outputs": [
    {
     "name": "stdout",
     "output_type": "stream",
     "text": [
      "Example without minimal solution\n",
      "--------------------------------\n",
      "\n",
      "Subtraction (Removed A from position 2): A->B->C->B\n",
      "Subtraction (Removed B from position 3): A->B->C\n",
      "\n",
      "Example with minimal solution\n",
      "--------------------------------\n",
      "\n",
      "Addition (Added B at position 1): A->B->B->A->C->B\n",
      "Subtraction (Removed B from position 5): A->B->B->A->C\n",
      "\n",
      "Example without minimal solution\n",
      "--------------------------------\n",
      "\n",
      "Addition (Added B at position 1): C->B->B->A\n",
      "Addition (Added B at position 1): C->B->B->B->A\n",
      "Addition (Added A at position 1): C->A->B->B->B->A\n",
      "Subtraction (Removed C from position 0): A->B->B->B->A\n",
      "Addition (Added C at position 4): A->B->B->B->C->A\n",
      "Subtraction (Removed A from position 5): A->B->B->B->C\n",
      "\n",
      "Example with minimal solution\n",
      "--------------------------------\n",
      "\n",
      "Addition (Added A at position 1): C->A->B->A\n",
      "Subtraction (Removed C from position 0): A->B->A\n",
      "Addition (Added C at position 2): A->B->C->A\n",
      "Subtraction (Removed A from position 3): A->B->C\n"
     ]
    }
   ],
   "source": [
    "exp = ExplainerRegex()\n",
    "exp.add_constraint(\"^A\")\n",
    "exp.add_constraint(\"A.*B.*\")\n",
    "exp.add_constraint(\"C$\")\n",
    "trace = Trace(['A', 'B','A','C', 'B'])\n",
    "print(\"Example without minimal solution\")\n",
    "print(\"--------------------------------\")\n",
    "print(exp.counterfactual_expl(trace))\n",
    "\n",
    "print(\"\\nExample with minimal solution\")\n",
    "print(\"--------------------------------\")\n",
    "exp.set_minimal_solution(True)\n",
    "print(exp.counterfactual_expl(trace))\n",
    "exp.set_minimal_solution(False)\n",
    "trace = Trace(['C','B','A'])\n",
    "print(\"\\nExample without minimal solution\")\n",
    "print(\"--------------------------------\")\n",
    "print(exp.counterfactual_expl(trace))\n",
    "\n",
    "print(\"\\nExample with minimal solution\")\n",
    "print(\"--------------------------------\")\n",
    "exp.set_minimal_solution(True)\n",
    "print(exp.counterfactual_expl(trace))"
   ]
  },
  {
   "cell_type": "markdown",
   "metadata": {},
   "source": [
    "## Step 6: Contribution functions and Event Logs\n",
    "\n",
    "For this project, 4 contribution functions have been developed to determined a trace variant's, or constraint's contribution to a system.\n",
    "\n",
    "For the sake efficiency, all of the contribution functions, `variant_ctrb_to_conformance_loss`, `variant_ctrb_to_fitness`,`constraint_ctrb_to_fitness` and `constraint_ctrb_to_conformance`, should equal the total amount of conformance loss and fitness rate.\n",
    "\n",
    "There are to methods to determine the conformance rate (and conformance loss, by extension) and the fitness rate; `determine_conformance_rate` and `determine_fitness_rate`. \n",
    "\n",
    "All of these methods utilized an abstraction of an Event Log. In this block, the initialization and usage of conformance rate and fitness rate is displayed."
   ]
  },
  {
   "cell_type": "code",
   "execution_count": 6,
   "metadata": {
    "metadata": {}
   },
   "outputs": [
    {
     "name": "stdout",
     "output_type": "stream",
     "text": [
      "Conformance rate: 20.0%\n",
      "Fitness rate:     50.0%\n"
     ]
    }
   ],
   "source": [
    "exp = ExplainerRegex()\n",
    "# Setup an event log\n",
    "event_log = EventLog()\n",
    "traces = [\n",
    "    Trace(['A', 'B','C']),\n",
    "    Trace(['A', 'B']),\n",
    "    Trace(['B']),\n",
    "    Trace(['B','C'])\n",
    "]\n",
    "event_log.add_trace(traces[0], 10) # The second parameter is how many variants you'd like to add, leave blank for 1\n",
    "event_log.add_trace(traces[1], 10)\n",
    "event_log.add_trace(traces[2], 10)\n",
    "event_log.add_trace(traces[3], 20)\n",
    "# Add the constraints\n",
    "exp.add_constraint('^A')\n",
    "exp.add_constraint('C$')\n",
    "\n",
    "print(\"Conformance rate: \" + str(exp.determine_conformance_rate(event_log) * 100) + \"%\")\n",
    "print(\"Fitness rate:     \" + str(exp.determine_fitness_rate(event_log) * 100) + \"%\")"
   ]
  },
  {
   "cell_type": "markdown",
   "metadata": {},
   "source": [
    "`variant_ctrb_to_conformance_loss` determines how much a specific variant contributes to the overall conformance loss"
   ]
  },
  {
   "cell_type": "code",
   "execution_count": 7,
   "metadata": {
    "metadata": {}
   },
   "outputs": [
    {
     "name": "stdout",
     "output_type": "stream",
     "text": [
      "Contribution of variant to conformance rate\n",
      "Ctrb of variant ['A', 'B', 'C']: 0.0\n",
      "Ctrb of variant ['A', 'B']:      0.2\n",
      "Ctrb of variant ['B']:           0.2\n",
      "Ctrb of variant ['B', 'C']:      0.4\n",
      "Total conformance loss:          0.8\n"
     ]
    }
   ],
   "source": [
    "print(\"Contribution of variant to conformance rate\")\n",
    "print(\"Ctrb of variant \"+ str(traces[0].nodes) +\": \"+ str(exp.variant_ctrb_to_conformance_loss(event_log, traces[0])))\n",
    "print(\"Ctrb of variant \"+ str(traces[1].nodes) +\":      \"+ str(exp.variant_ctrb_to_conformance_loss(event_log, traces[1])))\n",
    "print(\"Ctrb of variant \"+ str(traces[2].nodes) +\":           \"+ str(exp.variant_ctrb_to_conformance_loss(event_log, traces[2])))\n",
    "print(\"Ctrb of variant \"+ str(traces[3].nodes) +\":      \"+ str(exp.variant_ctrb_to_conformance_loss(event_log, traces[3])))\n",
    "print(\"Total conformance loss:          \" + str(exp.variant_ctrb_to_conformance_loss(event_log, traces[0]) + exp.variant_ctrb_to_conformance_loss(event_log, traces[1]) + exp.variant_ctrb_to_conformance_loss(event_log, traces[2]) + exp.variant_ctrb_to_conformance_loss(event_log, traces[3])))"
   ]
  },
  {
   "cell_type": "markdown",
   "metadata": {},
   "source": [
    "`variant_ctrb_to_fitness` determines how much a specific variant contributes to the overall fitness rate"
   ]
  },
  {
   "cell_type": "code",
   "execution_count": 8,
   "metadata": {
    "metadata": {}
   },
   "outputs": [
    {
     "name": "stdout",
     "output_type": "stream",
     "text": [
      "Contribution of variant to fitness rate\n",
      "Ctrb of variant ['A', 'B', 'C']: 0.0\n",
      "Ctrb of variant ['A', 'B']:      0.1\n",
      "Ctrb of variant ['B']:           0.2\n",
      "Ctrb of variant ['B', 'C']:      0.2\n",
      "Total fitness:                   0.5\n"
     ]
    }
   ],
   "source": [
    "print(\"Contribution of variant to fitness rate\")\n",
    "print(\"Ctrb of variant \" + str(traces[0].nodes) + \": \" + str(round(exp.variant_ctrb_to_fitness(event_log, traces[0]), 2)))\n",
    "print(\"Ctrb of variant \" + str(traces[1].nodes) + \":      \" + str(round(exp.variant_ctrb_to_fitness(event_log, traces[1]), 2)))\n",
    "print(\"Ctrb of variant \" + str(traces[2].nodes) + \":           \" + str(round(exp.variant_ctrb_to_fitness(event_log, traces[2]), 2)))\n",
    "print(\"Ctrb of variant \" + str(traces[3].nodes) + \":      \" + str(round(exp.variant_ctrb_to_fitness(event_log, traces[3]), 2)))\n",
    "total_fitness = (exp.variant_ctrb_to_fitness(event_log, traces[0]) +\n",
    "                 exp.variant_ctrb_to_fitness(event_log, traces[1]) +\n",
    "                 exp.variant_ctrb_to_fitness(event_log, traces[2]) +\n",
    "                 exp.variant_ctrb_to_fitness(event_log, traces[3]))\n",
    "print(\"Total fitness:                   \" + str(round(total_fitness, 2)))\n"
   ]
  },
  {
   "cell_type": "markdown",
   "metadata": {},
   "source": [
    "`constraint_ctrb_to_fitness` determines how much a specific constraint contributes to the overall fitness rate"
   ]
  },
  {
   "cell_type": "code",
   "execution_count": 9,
   "metadata": {
    "metadata": {}
   },
   "outputs": [
    {
     "name": "stdout",
     "output_type": "stream",
     "text": [
      "^A ctrb to fitness rate: 0.3\n",
      "B$ ctrb to fitness rate: 0.2\n",
      "Total fitness loss       0.5\n"
     ]
    }
   ],
   "source": [
    "\n",
    "print(\"^A ctrb to fitness rate: \" + str(exp.constraint_ctrb_to_fitness(event_log, exp.constraints, 0)))\n",
    "print(\"B$ ctrb to fitness rate: \" + str(exp.constraint_ctrb_to_fitness(event_log, exp.constraints, 1)))\n",
    "print(\"Total fitness loss       \" + str(exp.constraint_ctrb_to_fitness(event_log, exp.constraints, 0) + exp.constraint_ctrb_to_fitness(event_log, exp.constraints, 1)))"
   ]
  },
  {
   "cell_type": "markdown",
   "metadata": {},
   "source": [
    "## Step 7: Shapely values\n",
    "\n",
    "`constraint_ctrb_to_conformance` determines how much a specific constraint contributes to the overall conformance loss. \n",
    "\n",
    "Because the constraints overlap in this case, Shapley values have been used to determine the contribution. This makes the method more complicated and more computationally heavy than the other contribution functions \n"
   ]
  },
  {
   "cell_type": "code",
   "execution_count": 10,
   "metadata": {
    "metadata": {}
   },
   "outputs": [
    {
     "name": "stdout",
     "output_type": "stream",
     "text": [
      "Contriution of constraint to conformance rate\n",
      "^A ctrb:                0.5\n",
      "C$ ctrb:                0.30000000000000004 (adjusted 0.3)\n",
      "Total conformance loss: 0.8\n"
     ]
    }
   ],
   "source": [
    "print(\"Contriution of constraint to conformance rate\")\n",
    "print(\"^A ctrb:                \" + str(exp.constraint_ctrb_to_conformance(event_log, exp.constraints, 0)))\n",
    "print(\"C$ ctrb:                \" + str(exp.constraint_ctrb_to_conformance(event_log, exp.constraints, 1)) + \" (adjusted \" + str(round(exp.constraint_ctrb_to_conformance(event_log, exp.constraints, 1), 2)) + \")\")\n",
    "print(\"Total conformance loss: \" + str(exp.constraint_ctrb_to_conformance(event_log, exp.constraints, 0) + exp.constraint_ctrb_to_conformance(event_log, exp.constraints, 1)))\n",
    "\n"
   ]
  },
  {
   "cell_type": "code",
   "execution_count": 11,
   "metadata": {
    "metadata": {}
   },
   "outputs": [
    {
     "name": "stdout",
     "output_type": "stream",
     "text": [
      "Conformance rate: 0.14\n",
      "Contribution C$:  0.21\n",
      "Contribution ^A:  0.36\n",
      "Contribution B+:  0.29\n",
      "Conformance loss : 86.0%, contribution to loss: 86.0%\n",
      "------------------------------------\n",
      "Fitness rate loss: 0.33333333333333337\n",
      "C$ ctrb to fitness rate loss : 0.09523809523809523\n",
      "^A ctrb to fitness rate loss : 0.14285714285714285\n",
      "B+ ctrb to fitness rate loss : 0.09523809523809523\n",
      "Total fitness rate loss :      0.3333333333333333\n"
     ]
    }
   ],
   "source": [
    "exp = ExplainerRegex()\n",
    "event_log = EventLog()\n",
    "trace1 = Trace(['A', 'B', 'C'])\n",
    "trace2 = Trace(['B', 'C'])\n",
    "trace3 = Trace(['A', 'B'])\n",
    "trace4 = Trace(['B'])\n",
    "trace5 = Trace(['A', 'C'])\n",
    "\n",
    "\n",
    "event_log.add_trace(trace1, 5) \n",
    "event_log.add_trace(trace2, 10)\n",
    "event_log.add_trace(trace3, 5)\n",
    "event_log.add_trace(trace4, 5)\n",
    "event_log.add_trace(trace5, 10)\n",
    "\n",
    "\n",
    "exp = ExplainerRegex()\n",
    "exp.add_constraint(\"C$\")\n",
    "exp.add_constraint(\"^A\")\n",
    "exp.add_constraint(\"B+\")\n",
    "conf_rate = exp.determine_conformance_rate(event_log)\n",
    "print(\"Conformance rate: \"+ str(round(conf_rate, 2)))\n",
    "print(\"Contribution C$: \", round(exp.constraint_ctrb_to_conformance(event_log, exp.constraints, 0), 2)) # Round for easier readability\n",
    "print(\"Contribution ^A: \", round(exp.constraint_ctrb_to_conformance(event_log, exp.constraints, 1), 2))\n",
    "print(\"Contribution B+: \", round(exp.constraint_ctrb_to_conformance(event_log, exp.constraints, 2), 2))\n",
    "total_ctrb = exp.constraint_ctrb_to_conformance(event_log, exp.constraints, 0) + exp.constraint_ctrb_to_conformance(event_log, exp.constraints, 1) + exp.constraint_ctrb_to_conformance(event_log, exp.constraints, 2)\n",
    "conf_rate = round(conf_rate, 2) \n",
    "total_ctrb = round(total_ctrb, 2)\n",
    "print(\"Conformance loss : \" + str(100 - (conf_rate * 100)) + \"%, contribution to loss: \" + str(total_ctrb * 100) + \"%\")\n",
    "print(\"------------------------------------\")\n",
    "print(\"Fitness rate loss: \"+ str(1 - exp.determine_fitness_rate(event_log)))\n",
    "print(\"C$ ctrb to fitness rate loss : \" + str(exp.constraint_ctrb_to_fitness(event_log, exp.constraints, 0)))\n",
    "print(\"^A ctrb to fitness rate loss : \" + str(exp.constraint_ctrb_to_fitness(event_log, exp.constraints, 1)))\n",
    "print(\"B+ ctrb to fitness rate loss : \" + str(exp.constraint_ctrb_to_fitness(event_log, exp.constraints, 2)))\n",
    "\n",
    "print(\"Total fitness rate loss :      \" + str(exp.constraint_ctrb_to_fitness(event_log, exp.constraints, 0) + exp.constraint_ctrb_to_fitness(event_log, exp.constraints, 1) + exp.constraint_ctrb_to_fitness(event_log, exp.constraints, 2)))\n"
   ]
  }
 ],
 "metadata": {
  "kernelspec": {
   "display_name": ".venv",
   "language": "python",
   "name": "python3"
  },
  "language_info": {
   "codemirror_mode": {
    "name": "ipython",
    "version": 3
   },
   "file_extension": ".py",
   "mimetype": "text/x-python",
   "name": "python",
   "nbconvert_exporter": "python",
   "pygments_lexer": "ipython3",
   "version": "3.11.9"
  }
 },
 "nbformat": 4,
 "nbformat_minor": 2
}
