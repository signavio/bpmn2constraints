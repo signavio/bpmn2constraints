{
 "cells": [
  {
   "cell_type": "markdown",
   "metadata": {},
   "source": [
    "## Explainer for Signal\n",
    "\n",
    "The explainer is also made for SAP Signavio Analytics Language, a query language made for performing process mining tasks on large amount of event data.\n",
    "\n",
    "First, import the necessary modules."
   ]
  },
  {
   "cell_type": "code",
   "execution_count": 1,
   "metadata": {
    "metadata": {}
   },
   "outputs": [],
   "source": [
    "import sys\n",
    "sys.path.append('../')\n",
    "from explainer.explainer_util import Trace\n",
    "from explainer.explainer_signal import ExplainerSignal"
   ]
  },
  {
   "cell_type": "markdown",
   "metadata": {},
   "source": [
    "## Initilize the explainer\n",
    "\n",
    "The signal explainer is developed to be a proof of concept, hence the code is highly tailored to be used on the selected data set. With access to more API calls and conformance queries, that do not need a data set, the explainer could be developed for a broader usage."
   ]
  },
  {
   "cell_type": "code",
   "execution_count": 2,
   "metadata": {},
   "outputs": [],
   "source": [
    "exp = ExplainerSignal()\n",
    "exp.set_endpoint('/g/api/pi-graphql/signal') #Load the data set\n",
    "\n",
    "# Let's add some constrainst, these are taken from the tutorial in bpmnconstraints module\n",
    "\n",
    "exp.add_constraint(\"(^NOT('review request'|'prepare contract')*('review request'~>'prepare contract')*NOT('review request'|'prepare contract')*$)\")\n",
    "exp.add_constraint(\"(^NOT('prepare contract')* ('prepare contract' ANY*'send quote')* NOT('prepare contract')*$)\")\n",
    "exp.add_constraint(\"(^NOT('assess risks')* ('assess risks' ANY*'send quote')* NOT('assess risks')*$)\")"
   ]
  },
  {
   "cell_type": "markdown",
   "metadata": {},
   "source": [
    "### Minimal possible trace violation\n",
    "\n",
    "The same fashion as ExplainerRegex."
   ]
  },
  {
   "cell_type": "code",
   "execution_count": 3,
   "metadata": {
    "metadata": {}
   },
   "outputs": [
    {
     "name": "stdout",
     "output_type": "stream",
     "text": [
      "['credit requested', 'review request', 'prepare special terms', 'assess risks', 'prepare special terms', 'prepare contract', 'assess risks', 'prepare contract', 'send quote', 'send quote', 'quote sent']\n",
      "---------------------\n",
      "Non-conformance due to: Constraint ((^NOT('assess risks')* ('assess risks' ANY*'send quote')* NOT('assess risks')*$)) is violated by subtrace: ('credit requested', 'review request')\n"
     ]
    }
   ],
   "source": [
    "trace = Trace(['credit requested', 'review request', 'prepare special terms', 'assess risks', 'prepare special terms', 'prepare contract', 'assess risks', 'prepare contract', 'send quote', 'send quote', 'quote sent'])\n",
    "print(trace.nodes)\n",
    "print(\"---------------------\")\n",
    "print(exp.minimal_expl(trace))\n"
   ]
  },
  {
   "cell_type": "markdown",
   "metadata": {},
   "source": [
    "### Counterfactuals\n",
    "\n",
    "Also, similar to ExplainerRegex."
   ]
  },
  {
   "cell_type": "code",
   "execution_count": 4,
   "metadata": {
    "metadata": {}
   },
   "outputs": [
    {
     "name": "stdout",
     "output_type": "stream",
     "text": [
      "\n",
      "Addition (Added review request at position 0): review request->credit requested->review request->prepare special terms->assess risks->prepare special terms->prepare contract->assess risks->prepare contract->send quote->send quote->quote sent\n"
     ]
    }
   ],
   "source": [
    "print(exp.counterfactual_expl(trace))"
   ]
  },
  {
   "cell_type": "markdown",
   "metadata": {},
   "source": [
    "## Contribution functions\n",
    "\n",
    "We'll start with conformance rate and fitness rate, given some arbritary constraints."
   ]
  },
  {
   "cell_type": "code",
   "execution_count": 5,
   "metadata": {
    "metadata": {}
   },
   "outputs": [
    {
     "name": "stdout",
     "output_type": "stream",
     "text": [
      "Conformance rate: 0.71\n",
      "Fitness rate    : 0.8933333333333333\n"
     ]
    }
   ],
   "source": [
    "conf_rate = exp.determine_conformance_rate()\n",
    "fit_rate = exp.determine_fitness_rate()\n",
    "print(\"Conformance rate: \" + str(conf_rate))\n",
    "print(\"Fitness rate    : \" + str(fit_rate))"
   ]
  },
  {
   "cell_type": "markdown",
   "metadata": {},
   "source": [
    "`variant_ctrb_to_conformance_loss` determines how much a specific variant contributes to the overall conformance loss.\n",
    "\n",
    "This is done slightly different when working with a data set, because all variations have to be considered"
   ]
  },
  {
   "cell_type": "code",
   "execution_count": 6,
   "metadata": {},
   "outputs": [
    {
     "name": "stdout",
     "output_type": "stream",
     "text": [
      "Contribution is: 0.0, for trace ['review request', 'calculate terms', 'credit requested', 'calculate terms', 'assess risks', 'prepare contract', 'review request', 'assess risks', 'prepare contract', 'send quote', 'send quote', 'quote sent']\n",
      "Contribution is: 0.0, for trace ['credit requested', 'review request', 'review request', 'prepare contract', 'assess risks', 'calculate terms', 'assess risks', 'calculate terms', 'prepare contract', 'send quote', 'send quote', 'quote sent']\n",
      "Contribution is: 0.0, for trace ['credit requested', 'calculate terms', 'review request', 'review request', 'assess risks', 'calculate terms', 'prepare contract', 'assess risks', 'prepare contract', 'send quote', 'send quote', 'quote sent']\n",
      "Contribution is: 0.0, for trace ['credit requested', 'review request', 'review request', 'assess risks', 'assess risks', 'calculate terms', 'prepare contract', 'calculate terms', 'prepare contract', 'send quote', 'send quote', 'quote sent']\n",
      "Contribution is: 0.01, for trace ['send quote', 'credit requested', 'review request', 'calculate terms', 'assess risks', 'calculate terms', 'prepare contract', 'assess risks', 'prepare contract', 'send quote', 'review request', 'quote sent']\n",
      "Contribution is: 0.0, for trace ['credit requested', 'review request', 'review request', 'calculate terms', 'calculate terms', 'assess risks', 'prepare contract', 'assess risks', 'prepare contract', 'send quote', 'send quote', 'quote sent']\n",
      "Total distribution to the conformance loss is 0.2900000000000001\n",
      "Our total conformance loss is 0.29000000000000004\n"
     ]
    }
   ],
   "source": [
    "total_contribution = 0\n",
    "i = 0\n",
    "for trace in exp.event_log.get_traces():\n",
    "    i +=1\n",
    "    ctrb = exp.variant_ctrb_to_conformance_loss(\n",
    "        event_log=exp.event_log,\n",
    "        trace=trace,\n",
    "    )\n",
    "    total_contribution += ctrb\n",
    "    # Let's just show some traces\n",
    "    if i % 10 == 0:\n",
    "        print(f\"Contribution is: {ctrb}, for trace {trace.nodes}\")\n",
    "print(f\"Total distribution to the conformance loss is {total_contribution}\")\n",
    "print(f\"Our total conformance loss is {1 - conf_rate}\")\n"
   ]
  },
  {
   "cell_type": "markdown",
   "metadata": {},
   "source": [
    "`variant_ctrb_to_fitness` determines how much a specific variant contributes to the overall fitness rate.\n",
    "\n",
    "This is also done in the same way"
   ]
  },
  {
   "cell_type": "code",
   "execution_count": 7,
   "metadata": {
    "metadata": {}
   },
   "outputs": [
    {
     "name": "stdout",
     "output_type": "stream",
     "text": [
      "Contribution is: 0.0, for trace ['review request', 'calculate terms', 'credit requested', 'calculate terms', 'assess risks', 'prepare contract', 'review request', 'assess risks', 'prepare contract', 'send quote', 'send quote', 'quote sent']\n",
      "Contribution is: 0.0, for trace ['credit requested', 'review request', 'review request', 'prepare contract', 'assess risks', 'calculate terms', 'assess risks', 'calculate terms', 'prepare contract', 'send quote', 'send quote', 'quote sent']\n",
      "Contribution is: 0.0, for trace ['credit requested', 'calculate terms', 'review request', 'review request', 'assess risks', 'calculate terms', 'prepare contract', 'assess risks', 'prepare contract', 'send quote', 'send quote', 'quote sent']\n",
      "Contribution is: 0.0, for trace ['credit requested', 'review request', 'review request', 'assess risks', 'assess risks', 'calculate terms', 'prepare contract', 'calculate terms', 'prepare contract', 'send quote', 'send quote', 'quote sent']\n",
      "Contribution is: 0.003333333333333333, for trace ['send quote', 'credit requested', 'review request', 'calculate terms', 'assess risks', 'calculate terms', 'prepare contract', 'assess risks', 'prepare contract', 'send quote', 'review request', 'quote sent']\n",
      "Contribution is: 0.0, for trace ['credit requested', 'review request', 'review request', 'calculate terms', 'calculate terms', 'assess risks', 'prepare contract', 'assess risks', 'prepare contract', 'send quote', 'send quote', 'quote sent']\n",
      "Total distribution to the fitness is: 0.10666666666666662\n",
      "Our total fitness rate loss is:       0.10666666666666669\n"
     ]
    }
   ],
   "source": [
    "total_contribution = 0\n",
    "i = 0\n",
    "for trace in exp.event_log.get_traces():\n",
    "    i +=1\n",
    "    ctrb = exp.variant_ctrb_to_fitness(\n",
    "        event_log=exp.event_log,\n",
    "        trace=trace,\n",
    "    )\n",
    "    total_contribution += ctrb\n",
    "    # Let's just show some traces\n",
    "    if i % 10 == 0:\n",
    "        print(f\"Contribution is: {ctrb}, for trace {trace.nodes}\")\n",
    "print(f\"Total distribution to the fitness is: {total_contribution}\")\n",
    "print(f\"Our total fitness rate loss is:       {1 - fit_rate}\")"
   ]
  },
  {
   "cell_type": "markdown",
   "metadata": {},
   "source": [
    "`constraint_ctrb_to_fitness` determines how much a specific constraint contributes to the overall fitness rate"
   ]
  },
  {
   "cell_type": "code",
   "execution_count": 8,
   "metadata": {},
   "outputs": [
    {
     "name": "stdout",
     "output_type": "stream",
     "text": [
      "Contribution is: 0.06666666666666667, for constrainst (^NOT('review request'|'prepare contract')*('review request'~>'prepare contract')*NOT('review request'|'prepare contract')*$)\n",
      "Contribution is: 0.016666666666666666, for constrainst (^NOT('prepare contract')* ('prepare contract' ANY*'send quote')* NOT('prepare contract')*$)\n",
      "Contribution is: 0.023333333333333334, for constrainst (^NOT('assess risks')* ('assess risks' ANY*'send quote')* NOT('assess risks')*$)\n",
      "Our total contribution to the fitness rate is: 0.10666666666666666\n",
      "Compared to our fitness rate loss            : 0.10666666666666669\n"
     ]
    }
   ],
   "source": [
    "ctrb_0 = exp.constraint_ctrb_to_fitness(exp.event_log, exp.constraints, 0)\n",
    "ctrb_1 = exp.constraint_ctrb_to_fitness(exp.event_log, exp.constraints, 1)\n",
    "ctrb_2 = exp.constraint_ctrb_to_fitness(exp.event_log, exp.constraints, 2)\n",
    "\n",
    "print(f\"Contribution is: {ctrb_0}, for constrainst {exp.constraints[0]}\")\n",
    "print(f\"Contribution is: {ctrb_1}, for constrainst {exp.constraints[1]}\")\n",
    "print(f\"Contribution is: {ctrb_2}, for constrainst {exp.constraints[2]}\")\n",
    "\n",
    "print(f\"Our total contribution to the fitness rate is: {ctrb_0 + ctrb_1 + ctrb_2}\")\n",
    "print(f\"Compared to our fitness rate loss            : {1 - fit_rate}\")"
   ]
  },
  {
   "cell_type": "markdown",
   "metadata": {},
   "source": [
    "## Shapley values\n",
    "\n",
    "`constraint_ctrb_to_conformance` determines how much a specific constraint contributes to the overall conformance loss. \n",
    "\n",
    "Because the constraints overlap in this case, Shapley values have been used to determine the contribution. This makes the method more complicated and more computationally heavy than the other contribution functions \n"
   ]
  },
  {
   "cell_type": "code",
   "execution_count": 9,
   "metadata": {
    "metadata": {}
   },
   "outputs": [
    {
     "name": "stdout",
     "output_type": "stream",
     "text": [
      "Contribution is: 0.19, for constrainst (^NOT('review request'|'prepare contract')*('review request'~>'prepare contract')*NOT('review request'|'prepare contract')*$)\n",
      "Contribution is: 0.040000000000000036, for constrainst (^NOT('prepare contract')* ('prepare contract' ANY*'send quote')* NOT('prepare contract')*$)\n",
      "Contribution is: 0.06, for constrainst (^NOT('assess risks')* ('assess risks' ANY*'send quote')* NOT('assess risks')*$)\n",
      "Our total contribution to the conformance loss is: 0.29000000000000004\n",
      "Compared to our conformance loss                 : 0.29000000000000004\n"
     ]
    }
   ],
   "source": [
    "ctrb_0 = exp.constraint_ctrb_to_conformance(exp.event_log, exp.constraints, 0)\n",
    "ctrb_1 = exp.constraint_ctrb_to_conformance(exp.event_log, exp.constraints, 1)\n",
    "ctrb_2 = exp.constraint_ctrb_to_conformance(exp.event_log, exp.constraints, 2)\n",
    "\n",
    "print(f\"Contribution is: {ctrb_0}, for constrainst {exp.constraints[0]}\")\n",
    "print(f\"Contribution is: {ctrb_1}, for constrainst {exp.constraints[1]}\")\n",
    "print(f\"Contribution is: {ctrb_2}, for constrainst {exp.constraints[2]}\")\n",
    "\n",
    "print(f\"Our total contribution to the conformance loss is: {ctrb_0 + ctrb_1 + ctrb_2}\")\n",
    "print(f\"Compared to our conformance loss                 : {1 - conf_rate}\")"
   ]
  },
  {
   "cell_type": "markdown",
   "metadata": {},
   "source": [
    "## Combining BPMN2CONSTRAINTS and the Explainer\n",
    "\n",
    "By using code from the bpmnconstraints tutorial, one can extract the constraints from a diagram and apply the explainer to that data set"
   ]
  },
  {
   "cell_type": "code",
   "execution_count": 10,
   "metadata": {
    "metadata": {}
   },
   "outputs": [
    {
     "data": {
      "image/png": "[encoded data removed]",
      "text/plain": [
       "<IPython.core.display.Image object>"
      ]
     },
     "metadata": {},
     "output_type": "display_data"
    }
   ],
   "source": [
    "import sys\n",
    "sys.path.append(\"../../\")\n",
    "\n",
    "from bpmnconstraints.script import compile_bpmn_diagram\n",
    "import SignavioAuthenticator\n",
    "import requests\n",
    "from IPython.display import Image, display\n",
    "import json\n",
    "import logging\n",
    "from conf import *\n",
    "logging.getLogger(\"urllib3\").setLevel(logging.WARNING)\n",
    "\n",
    "system_instance = 'https://editor.signavio.com'\n",
    "workspace_id = workspace_id# workspace id\n",
    "user_name = user_name# username\n",
    "pw = pw # pw\n",
    "revision_id = '1fe7397c17304d3ba4ea41f1eefc97fe'\n",
    "authenticator = SignavioAuthenticator.SignavioAuthenticator(system_instance, workspace_id, user_name, pw)\n",
    "auth_data = authenticator.authenticate()\n",
    "cookies = {'JSESSIONID': auth_data['jsesssion_ID'], 'LBROUTEID': auth_data['lb_route_ID']}\n",
    "headers = {'Accept': 'application/json', 'x-signavio-id':  auth_data['auth_token']}\n",
    "diagram_url = system_instance + '/p/revision'\n",
    "\n",
    "json_request = requests.get(\n",
    "    f'{diagram_url}/{revision_id}/json',\n",
    "    cookies=cookies,\n",
    "    headers=headers)\n",
    "json_diagram = json_request.content\n",
    "path = './diagram.json'\n",
    "with open(path, 'w') as f:\n",
    "    json.dump(json.loads(json_diagram), f)\n",
    "png_request = requests.get(\n",
    "    f'{diagram_url}/{revision_id}/png',\n",
    "    cookies=cookies,\n",
    "    headers=headers)\n",
    "display(Image(png_request.content))"
   ]
  },
  {
   "cell_type": "markdown",
   "metadata": {},
   "source": [
    "These are the constraints generated from the diagram"
   ]
  },
  {
   "cell_type": "code",
   "execution_count": 11,
   "metadata": {
    "metadata": {}
   },
   "outputs": [
    {
     "name": "stdout",
     "output_type": "stream",
     "text": [
      "INFO:root:Generating SIGNAL constraints...\n"
     ]
    },
    {
     "name": "stderr",
     "output_type": "stream",
     "text": [
      "100%|██████████| 119/119 [00:00<?, ?it/s]"
     ]
    },
    {
     "name": "stdout",
     "output_type": "stream",
     "text": [
      "[\"(^NOT('calculate terms')* ('calculate terms' ANY*'prepare contract')* NOT('calculate terms')*$)\", \"( ^ NOT('prepare special terms'|'send quote')* ('prepare special terms'NOT('prepare special terms'|'send quote')*'send quote'NOT('prepare special terms'|'send quote')*)*NOT('prepare special terms'|'send quote')* $)\", \"(^NOT('assess risks')*('review request' NOT('assess risks')*'assess risks'NOT('assess risks')*)*NOT('assess risks')*$)\", \"(^ (NOT 'review request' | ('review request' (NOT 'review request')* 'prepare special terms'))*$)\", \"(^NOT('review request'|'prepare contract')*(('review request'ANY*'prepare contract'ANY*)|('prepare contract'ANY* 'review request' ANY*))* NOT('review request'|'prepare contract')*$)\", \"(^NOT('calculate terms'|'send quote')*('calculate terms'~>'send quote')*NOT('calculate terms'|'send quote')*$)\", \"(^NOT('calculate terms'|'prepare contract')*(('calculate terms'ANY*'prepare contract'ANY*)|('prepare contract'ANY* 'calculate terms' ANY*))* NOT('calculate terms'|'prepare contract')*$)\", \"(^NOT('prepare special terms'|'calculate terms')*(('prepare special terms'ANY*'calculate terms'ANY*)|('calculate terms'ANY* 'prepare special terms' ANY*))* NOT('prepare special terms'|'calculate terms')*$)\", \"(^NOT('assess risks'|'prepare special terms')*(('assess risks'ANY*'prepare special terms'ANY*)|('prepare special terms'ANY* 'assess risks' ANY*))* NOT('assess risks'|'prepare special terms')*$)\", \"(^NOT('prepare contract')* ('prepare contract' ANY*'send quote')* NOT('prepare contract')*$)\", \"(^NOT('prepare special terms'|'send quote')*(('prepare special terms'ANY*'send quote'ANY*)|('send quote'ANY* 'prepare special terms' ANY*))* NOT('prepare special terms'|'send quote')*$)\", \"(^NOT('standard terms applicable'|'calculate terms')*(('standard terms applicable'ANY*'calculate terms'ANY*)|('calculate terms'ANY* 'standard terms applicable' ANY*))* NOT('standard terms applicable'|'calculate terms')*$)\", \"(^NOT('prepare special terms')* ('prepare special terms' ANY*'prepare contract')* NOT('prepare special terms')*$)\", \"( ^ NOT('review request'|'send quote')* ('review request'NOT('review request'|'send quote')*'send quote'NOT('review request'|'send quote')*)*NOT('review request'|'send quote')* $)\", \"(^NOT('prepare contract')*('prepare contract'NOT('prepare contract')*'send quote'NOT('prepare contract')*)*NOT('prepare contract')*$)\", \"(('review request'|'send quote'))\", \"(('prepare special terms'|'calculate terms'))\", \"(^NOT('calculate terms')*('calculate terms'NOT('calculate terms')*'prepare contract'NOT('calculate terms')*)*NOT('calculate terms')*$)\", \"(^ (NOT 'review request' | ('review request' (NOT 'review request')* 'assess risks'))*$)\", \"( ^ NOT('review request'|'prepare contract')* ('review request'NOT('review request'|'prepare contract')*'prepare contract'NOT('review request'|'prepare contract')*)*NOT('review request'|'prepare contract')* $)\", \"(^NOT('standard terms applicable'|'assess risks')*(('standard terms applicable'ANY*'assess risks'ANY*)|('assess risks'ANY* 'standard terms applicable' ANY*))* NOT('standard terms applicable'|'assess risks')*$)\", \"(^NOT('prepare contract'|'send quote')*(('prepare contract'ANY*'send quote'ANY*)|('send quote'ANY* 'prepare contract' ANY*))* NOT('prepare contract'|'send quote')*$)\", \"(^NOT('calculate terms')*('review request' NOT('calculate terms')*'calculate terms'NOT('calculate terms')*)*NOT('calculate terms')*$)\", \"(^NOT('assess risks'|'calculate terms')*(('assess risks'ANY*'calculate terms'ANY*)|('calculate terms'ANY* 'assess risks' ANY*))* NOT('assess risks'|'calculate terms')*$)\", \"(^NOT('prepare special terms')*('prepare special terms'NOT('prepare special terms')*'prepare contract'NOT('prepare special terms')*)*NOT('prepare special terms')*$)\", \"( ^ NOT('calculate terms'|'prepare contract')* ('calculate terms'NOT('calculate terms'|'prepare contract')*'prepare contract'NOT('calculate terms'|'prepare contract')*)*NOT('calculate terms'|'prepare contract')* $)\", \"(^NOT('calculate terms'|'send quote')*(('calculate terms'ANY*'send quote'ANY*)|('send quote'ANY* 'calculate terms' ANY*))* NOT('calculate terms'|'send quote')*$)\", \"(^NOT('prepare special terms'|'prepare contract')*('prepare special terms'~>'prepare contract')*NOT('prepare special terms'|'prepare contract')*$)\", \"( ^ NOT('prepare special terms'|'prepare contract')* ('prepare special terms'NOT('prepare special terms'|'prepare contract')*'prepare contract'NOT('prepare special terms'|'prepare contract')*)*NOT('prepare special terms'|'prepare contract')* $)\", \"(^NOT('prepare special terms'|'send quote')*('prepare special terms'~>'send quote')*NOT('prepare special terms'|'send quote')*$)\", \"(^NOT('prepare special terms'|'prepare contract')*(('prepare special terms'ANY*'prepare contract'ANY*)|('prepare contract'ANY* 'prepare special terms' ANY*))* NOT('prepare special terms'|'prepare contract')*$)\", \"(('review request'|'prepare contract'))\", \"(^NOT('review request'|'prepare contract')*('review request'~>'prepare contract')*NOT('review request'|'prepare contract')*$)\", \"(^'review request')\", \"(^NOT('assess risks'|'send quote')*(('assess risks'ANY*'send quote'ANY*)|('send quote'ANY* 'assess risks' ANY*))* NOT('assess risks'|'send quote')*$)\", \"(^NOT('assess risks')* ('assess risks' ANY*'send quote')* NOT('assess risks')*$)\", \"( ^ NOT('prepare contract'|'send quote')* ('prepare contract'NOT('prepare contract'|'send quote')*'send quote'NOT('prepare contract'|'send quote')*)*NOT('prepare contract'|'send quote')* $)\", \"( ^ NOT('calculate terms'|'send quote')* ('calculate terms'NOT('calculate terms'|'send quote')*'send quote'NOT('calculate terms'|'send quote')*)*NOT('calculate terms'|'send quote')* $)\", \"(^NOT('calculate terms'|'prepare contract')*('calculate terms'~>'prepare contract')*NOT('calculate terms'|'prepare contract')*$)\", \"('send quote'$)\", \"(^ (NOT 'review request' | ('review request' (NOT 'review request')* 'calculate terms'))*$)\", \"(^NOT('assess risks')*('assess risks'NOT('assess risks')*'send quote'NOT('assess risks')*)*NOT('assess risks')*$)\", \"(^NOT('review request'|'send quote')*('review request'~>'send quote')*NOT('review request'|'send quote')*$)\", \"(^(((NOT('prepare special terms')*) ('calculate terms' NOT('prepare special terms')*)*)|((NOT('calculate terms')*)('prepare special terms' NOT('calculate terms')*)*))$)\", \"(^NOT('assess risks'|'send quote')*('assess risks'~>'send quote')*NOT('assess risks'|'send quote')*$)\", \"(^NOT('prepare special terms')*('review request' NOT('prepare special terms')*'prepare special terms'NOT('prepare special terms')*)*NOT('prepare special terms')*$)\", \"(^NOT('standard terms applicable'|'prepare special terms')*(('standard terms applicable'ANY*'prepare special terms'ANY*)|('prepare special terms'ANY* 'standard terms applicable' ANY*))* NOT('standard terms applicable'|'prepare special terms')*$)\", \"(^NOT('prepare contract'|'send quote')*('prepare contract'~>'send quote')*NOT('prepare contract'|'send quote')*$)\", \"(^NOT('review request'|'send quote')*(('review request'ANY*'send quote'ANY*)|('send quote'ANY* 'review request' ANY*))* NOT('review request'|'send quote')*$)\", \"(('prepare contract'|'send quote'))\", \"( ^ NOT('assess risks'|'send quote')* ('assess risks'NOT('assess risks'|'send quote')*'send quote'NOT('assess risks'|'send quote')*)*NOT('assess risks'|'send quote')* $)\"]\n",
      "The amount of constraints: 51\n"
     ]
    },
    {
     "name": "stderr",
     "output_type": "stream",
     "text": [
      "\n"
     ]
    }
   ],
   "source": [
    "signal_constraints = compile_bpmn_diagram(path, \"SIGNAL\", False)\n",
    "signal_constraints = list(set(signal_constraints))\n",
    "print(signal_constraints)\n",
    "print(\"The amount of constraints: \" + str(len(signal_constraints)))\n"
   ]
  },
  {
   "cell_type": "markdown",
   "metadata": {},
   "source": [
    "Now we can use the explainer with the data set and the constraints\n"
   ]
  },
  {
   "cell_type": "code",
   "execution_count": 12,
   "metadata": {
    "metadata": {}
   },
   "outputs": [
    {
     "name": "stdout",
     "output_type": "stream",
     "text": [
      "Conformance rate: 0.0\n",
      "Fitness rate    : 0.4780392156862745\n"
     ]
    }
   ],
   "source": [
    "exp = ExplainerSignal() #Reset the explainer\n",
    "exp.set_endpoint('/g/api/pi-graphql/signal')\n",
    "for con in signal_constraints:\n",
    "    exp.add_constraint(con)\n",
    "    \n",
    "conf_rate = exp.determine_conformance_rate()\n",
    "fit_rate = exp.determine_fitness_rate()\n",
    "print(\"Conformance rate: \" + str(conf_rate))\n",
    "print(\"Fitness rate    : \" + str(fit_rate))"
   ]
  },
  {
   "cell_type": "markdown",
   "metadata": {},
   "source": [
    "`variant_ctrb_to_conformance_loss`"
   ]
  },
  {
   "cell_type": "code",
   "execution_count": 13,
   "metadata": {
    "metadata": {}
   },
   "outputs": [
    {
     "name": "stdout",
     "output_type": "stream",
     "text": [
      "Contribution is: 0.01, for trace ['review request', 'calculate terms', 'credit requested', 'calculate terms', 'assess risks', 'prepare contract', 'review request', 'assess risks', 'prepare contract', 'send quote', 'send quote', 'quote sent']\n",
      "Contribution is: 0.01, for trace ['credit requested', 'review request', 'review request', 'prepare contract', 'assess risks', 'calculate terms', 'assess risks', 'calculate terms', 'prepare contract', 'send quote', 'send quote', 'quote sent']\n",
      "Contribution is: 0.02, for trace ['credit requested', 'calculate terms', 'review request', 'review request', 'assess risks', 'calculate terms', 'prepare contract', 'assess risks', 'prepare contract', 'send quote', 'send quote', 'quote sent']\n",
      "Contribution is: 0.01, for trace ['credit requested', 'review request', 'review request', 'assess risks', 'assess risks', 'calculate terms', 'prepare contract', 'calculate terms', 'prepare contract', 'send quote', 'send quote', 'quote sent']\n",
      "Contribution is: 0.01, for trace ['send quote', 'credit requested', 'review request', 'calculate terms', 'assess risks', 'calculate terms', 'prepare contract', 'assess risks', 'prepare contract', 'send quote', 'review request', 'quote sent']\n",
      "Contribution is: 0.01, for trace ['credit requested', 'review request', 'review request', 'calculate terms', 'calculate terms', 'assess risks', 'prepare contract', 'assess risks', 'prepare contract', 'send quote', 'send quote', 'quote sent']\n",
      "Total distribution to the conformance loss is 1.0000000000000004\n",
      "Our total conformance loss is 1.0\n"
     ]
    }
   ],
   "source": [
    "total_contribution = 0\n",
    "i = 0\n",
    "for trace in exp.event_log.get_traces():\n",
    "    i +=1\n",
    "    ctrb = exp.variant_ctrb_to_conformance_loss(\n",
    "        event_log=exp.event_log,\n",
    "        trace=trace,\n",
    "    )\n",
    "    total_contribution += ctrb\n",
    "    # Let's just show some traces\n",
    "    if i % 10 == 0:\n",
    "        print(f\"Contribution is: {ctrb}, for trace {trace.nodes}\")\n",
    "print(f\"Total distribution to the conformance loss is {total_contribution}\")\n",
    "print(f\"Our total conformance loss is {1 - conf_rate}\")"
   ]
  },
  {
   "cell_type": "markdown",
   "metadata": {},
   "source": [
    "`variant_ctrb_to_fitness`"
   ]
  },
  {
   "cell_type": "code",
   "execution_count": 14,
   "metadata": {
    "metadata": {}
   },
   "outputs": [
    {
     "name": "stdout",
     "output_type": "stream",
     "text": [
      "Contribution is: 0.004313725490196079, for trace ['review request', 'calculate terms', 'credit requested', 'calculate terms', 'assess risks', 'prepare contract', 'review request', 'assess risks', 'prepare contract', 'send quote', 'send quote', 'quote sent']\n",
      "Contribution is: 0.005294117647058823, for trace ['credit requested', 'review request', 'review request', 'prepare contract', 'assess risks', 'calculate terms', 'assess risks', 'calculate terms', 'prepare contract', 'send quote', 'send quote', 'quote sent']\n",
      "Contribution is: 0.010196078431372548, for trace ['credit requested', 'calculate terms', 'review request', 'review request', 'assess risks', 'calculate terms', 'prepare contract', 'assess risks', 'prepare contract', 'send quote', 'send quote', 'quote sent']\n",
      "Contribution is: 0.004705882352941176, for trace ['credit requested', 'review request', 'review request', 'assess risks', 'assess risks', 'calculate terms', 'prepare contract', 'calculate terms', 'prepare contract', 'send quote', 'send quote', 'quote sent']\n",
      "Contribution is: 0.006078431372549019, for trace ['send quote', 'credit requested', 'review request', 'calculate terms', 'assess risks', 'calculate terms', 'prepare contract', 'assess risks', 'prepare contract', 'send quote', 'review request', 'quote sent']\n",
      "Contribution is: 0.005098039215686274, for trace ['credit requested', 'review request', 'review request', 'calculate terms', 'calculate terms', 'assess risks', 'prepare contract', 'assess risks', 'prepare contract', 'send quote', 'send quote', 'quote sent']\n",
      "Total distribution to the fitness is 0.5219607843137256\n",
      "Our total fitness rate loss is 0.5219607843137255\n"
     ]
    }
   ],
   "source": [
    "total_contribution = 0\n",
    "i = 0\n",
    "for trace in exp.event_log.get_traces():\n",
    "    i +=1\n",
    "    ctrb = exp.variant_ctrb_to_fitness(\n",
    "        event_log=exp.event_log,\n",
    "        trace=trace,\n",
    "    )\n",
    "    total_contribution += ctrb\n",
    "    # Let's just show some traces\n",
    "    if i % 10 == 0:\n",
    "        print(f\"Contribution is: {ctrb}, for trace {trace.nodes}\")\n",
    "print(f\"Total distribution to the fitness is {total_contribution}\")\n",
    "print(f\"Our total fitness rate loss is {1 - fit_rate}\")"
   ]
  },
  {
   "cell_type": "markdown",
   "metadata": {},
   "source": [
    "`constraint_ctrb_to_fitness`"
   ]
  },
  {
   "cell_type": "code",
   "execution_count": 15,
   "metadata": {},
   "outputs": [
    {
     "name": "stdout",
     "output_type": "stream",
     "text": [
      "Contribution is: 0.000980392156862745, for constraint (^NOT('prepare contract')* ('prepare contract' ANY*'send quote')* NOT('prepare contract')*$)\n",
      "Contribution is: 0.019215686274509803, for constraint ( ^ NOT('review request'|'prepare contract')* ('review request'NOT('review request'|'prepare contract')*'prepare contract'NOT('review request'|'prepare contract')*)*NOT('review request'|'prepare contract')* $)\n",
      "Contribution is: 0.01588235294117647, for constraint (^NOT('prepare special terms'|'send quote')*('prepare special terms'~>'send quote')*NOT('prepare special terms'|'send quote')*$)\n",
      "Contribution is: 0.019019607843137255, for constraint ('send quote'$)\n",
      "Contribution is: 0.0, for constraint (('prepare contract'|'send quote'))\n",
      "Total distribution to the fitness is 0.5219607843137255\n",
      "Our total fitness rate loss is 0.5219607843137255\n"
     ]
    }
   ],
   "source": [
    "total_contribution = 0\n",
    "i = 0\n",
    "for con in signal_constraints:\n",
    "    ctrb = exp.constraint_ctrb_to_fitness(\n",
    "        log=exp.event_log,\n",
    "        constraints=exp.constraints,\n",
    "        index=i\n",
    "    )\n",
    "    i +=1\n",
    "    total_contribution += ctrb\n",
    "    # Let's just show some traces\n",
    "    if i % 10 == 0:\n",
    "        print(f\"Contribution is: {ctrb}, for constraint {con}\")\n",
    "        \n",
    "print(f\"Total distribution to the fitness is {total_contribution}\")\n",
    "print(f\"Our total fitness rate loss is {1 - fit_rate}\")"
   ]
  },
  {
   "cell_type": "markdown",
   "metadata": {},
   "source": [
    "`constraint_ctrb_to_conformance`\n",
    "\n",
    "This does not seem to work currently, my suspicion is that the amount of constraints crashes the computer when applying the computationally heavy Shapley values to it "
   ]
  },
  {
   "cell_type": "code",
   "execution_count": 16,
   "metadata": {
    "metadata": {}
   },
   "outputs": [
    {
     "data": {
      "text/plain": [
       "'\\ntotal_contribution = 0\\ni = 0\\nfor con in signal_constraints:\\n    ctrb = exp.constraint_ctrb_to_conformance(\\n        log=exp.event_log,\\n        constraints=exp.constraints,\\n        index=i\\n    )\\n    i +=1\\n    total_contribution += ctrb\\n    # Let\\'s just show some traces\\n    if i % 10 == 0:\\n        print(f\"Contribution is: {ctrb}, for constraint {con}\")\\n        \\nprint(f\"Total distribution to the conformance loss is {total_contribution}\")\\nprint(f\"Our total conformance loss is { 1 - conf_rate}\")\\n'"
      ]
     },
     "execution_count": 16,
     "metadata": {},
     "output_type": "execute_result"
    }
   ],
   "source": [
    "\n",
    "\"\"\"\n",
    "total_contribution = 0\n",
    "i = 0\n",
    "for con in signal_constraints:\n",
    "    ctrb = exp.constraint_ctrb_to_conformance(\n",
    "        log=exp.event_log,\n",
    "        constraints=exp.constraints,\n",
    "        index=i\n",
    "    )\n",
    "    i +=1\n",
    "    total_contribution += ctrb\n",
    "    # Let's just show some traces\n",
    "    if i % 10 == 0:\n",
    "        print(f\"Contribution is: {ctrb}, for constraint {con}\")\n",
    "        \n",
    "print(f\"Total distribution to the conformance loss is {total_contribution}\")\n",
    "print(f\"Our total conformance loss is { 1 - conf_rate}\")\n",
    "\"\"\""
   ]
  }
 ],
 "metadata": {
  "kernelspec": {
   "display_name": "Python 3",
   "language": "python",
   "name": "python3"
  },
  "language_info": {
   "codemirror_mode": {
    "name": "ipython",
    "version": 3
   },
   "file_extension": ".py",
   "mimetype": "text/x-python",
   "name": "python",
   "nbconvert_exporter": "python",
   "pygments_lexer": "ipython3",
   "version": "3.11.9"
  }
 },
 "nbformat": 4,
 "nbformat_minor": 2
}
