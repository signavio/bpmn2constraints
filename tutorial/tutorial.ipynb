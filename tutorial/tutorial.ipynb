{
 "cells": [
  {
   "cell_type": "markdown",
   "id": "19417ddf",
   "metadata": {},
   "source": [
    "# BPMN2Constraints: Tutorial\n",
    "This notebook provides a brief tutorial on how to use BPMN2Constraints in the context of a commercial business process management/process mining tool.\n",
    "\n",
    "BPMN2Constraints is a tool that turns process models -- and in particular Business Process Model and Notation (BPMN) diagrams -- into declarative constraints in different formats.\n",
    "In particular, DECLARE and LTL constraints are supported, as are regular expression-based constraints that can be contextualized and executed in SIGNAL, SAP Signavio's proprietary process querying language.\n",
    "This tutorial gives a hands-on overview of how BPMN2Constraints works, show-casing an exemplaric integration with SAP Signavio's process modeling and process mining capabilities.\n",
    "\n",
    "## Setup\n",
    "First, we require the tool."
   ]
  },
  {
   "cell_type": "code",
   "execution_count": null,
   "id": "963bcce0",
   "metadata": {},
   "outputs": [],
   "source": [
    "import sys\n",
    "sys.path.append(\"../\")"
   ]
  },
  {
   "cell_type": "markdown",
   "id": "9e8c74c0",
   "metadata": {},
   "source": [
    "Then, we import the tool, alongside other imports that we need. Alternatively, we can run the tool from the command line, as explained in detail in the [README](./README.md) document. Note that in the example below we make use tutorial utilities that allow us to work with SAP Signavio APIs. These utilities are not generally required for using BPMN2Constraints, but they helps us illustrate how the tool works in interplay with enterprise-ready software."
   ]
  },
  {
   "cell_type": "code",
   "execution_count": null,
   "id": "4866f87e",
   "metadata": {},
   "outputs": [],
   "source": [
    "from bpmnconstraints.script import compile_bpmn_diagram\n",
    "import SignavioAuthenticator\n",
    "import requests\n",
    "from IPython.display import Image, display\n",
    "import json\n",
    "import logging\n",
    "logging.getLogger(\"urllib3\").setLevel(logging.WARNING)"
   ]
  },
  {
   "cell_type": "markdown",
   "id": "9ed6c702",
   "metadata": {},
   "source": [
    "Let us now fetch and render a BPMN diagram. At the moment, BPMN-to-Constraints supports the JSON format for BPMN diagrams that SAP Signavio uses. However, let us highlight that hundreds of thousands of BPMN diagrams in this format exists in an [open data set](https://zenodo.org/record/7012043) and that API code for translating diagrams in JSON format into standard-compliant XML is provided in a [different repository](https://github.com/signavio/sap-sam/blob/main/notebooks/3_images_and_XMLs.ipynb) (The inverse, i.e. XML to JSON can be achieved in an analogous manner). As a prerequisite, we need to specify system instance, workspace ID, and credentials. "
   ]
  },
  {
   "cell_type": "code",
   "execution_count": null,
   "id": "d5e1b610",
   "metadata": {},
   "outputs": [],
   "source": [
    "system_instance = 'https://editor.signavio.com'\n",
    "workspace_id = # workspace id\n",
    "user_name = # username\n",
    "pw = # pw"
   ]
  },
  {
   "cell_type": "markdown",
   "id": "7144324f",
   "metadata": {},
   "source": [
    "In addition, we provide the ID of the diagram -- technically, the diagram _revision_ (version) -- that we want to translate into constraints."
   ]
  },
  {
   "cell_type": "code",
   "execution_count": null,
   "id": "01c51962",
   "metadata": {},
   "outputs": [],
   "source": [
    "revision_id = '1fe7397c17304d3ba4ea41f1eefc97fe'"
   ]
  },
  {
   "cell_type": "markdown",
   "id": "9856122c",
   "metadata": {},
   "source": [
    "Now we can fetch and render the BPMN diagram."
   ]
  },
  {
   "cell_type": "code",
   "execution_count": null,
   "id": "52722137",
   "metadata": {},
   "outputs": [],
   "source": [
    "authenticator = SignavioAuthenticator.SignavioAuthenticator(system_instance, workspace_id, user_name, pw)\n",
    "auth_data = authenticator.authenticate()\n",
    "cookies = {'JSESSIONID': auth_data['jsesssion_ID'], 'LBROUTEID': auth_data['lb_route_ID']}\n",
    "headers = {'Accept': 'application/json', 'x-signavio-id':  auth_data['auth_token']}\n",
    "diagram_url = system_instance + '/p/revision'\n",
    "\n",
    "json_request = requests.get(\n",
    "    f'{diagram_url}/{revision_id}/json',\n",
    "    cookies=cookies,\n",
    "    headers=headers)\n",
    "json_diagram = json_request.content\n",
    "path = './diagram.json'\n",
    "with open(path, 'w') as f:\n",
    "    json.dump(json.loads(json_diagram), f)\n",
    "png_request = requests.get(\n",
    "    f'{diagram_url}/{revision_id}/png',\n",
    "    cookies=cookies,\n",
    "    headers=headers)\n",
    "display(Image(png_request.content))\n"
   ]
  },
  {
   "cell_type": "markdown",
   "id": "dec69806",
   "metadata": {},
   "source": [
    "We break-down the diagram into constraints of different types.\n",
    "Let us start with DECLARE constraints."
   ]
  },
  {
   "cell_type": "code",
   "execution_count": null,
   "id": "362b94d1",
   "metadata": {},
   "outputs": [],
   "source": [
    "declare_constraints = compile_bpmn_diagram(path, \"LTLF\")\n",
    "print(declare_constraints)"
   ]
  },
  {
   "cell_type": "markdown",
   "id": "da9751a4",
   "metadata": {},
   "source": [
    "Now, let us generate LTLf constraints."
   ]
  },
  {
   "cell_type": "code",
   "execution_count": null,
   "id": "0b23c8a3",
   "metadata": {},
   "outputs": [],
   "source": [
    "ltlf_constraints = compile_bpmn_diagram(path, \"LTLF\")\n",
    "print(ltlf_constraints)"
   ]
  },
  {
   "cell_type": "markdown",
   "id": "8c2d90e5",
   "metadata": {},
   "source": [
    "Finally, we generate constraints in SIGNAL, SAP Signavio's process data querying language."
   ]
  },
  {
   "cell_type": "code",
   "execution_count": null,
   "id": "ab7ae0c8",
   "metadata": {},
   "outputs": [],
   "source": [
    "signal_constraints = compile_bpmn_diagram(path, \"SIGNAL\")\n",
    "print(signal_constraints)"
   ]
  },
  {
   "cell_type": "markdown",
   "id": "1c2f5f20",
   "metadata": {},
   "source": [
    "We can use these constraints, in combination with SIGNAL templates, to query an event log that has been uploaded to SAP Signavio Process Intelligence. For this, we first need to embedd the results of the constraints generate into a SIGNAL query template."
   ]
  },
  {
   "cell_type": "code",
   "execution_count": null,
   "id": "2d763d6e",
   "metadata": {},
   "outputs": [],
   "source": [
    "def signal_template(constraint):\n",
    "    return f'SELECT COUNT(CASE_ID) FROM \"defaultview-4\" WHERE NOT event_name MATCHES{constraint}'"
   ]
  },
  {
   "cell_type": "markdown",
   "id": "c61884fa",
   "metadata": {},
   "source": [
    "Then, we can send the query for execution to the backend system."
   ]
  },
  {
   "cell_type": "code",
   "execution_count": null,
   "id": "29c72ee9",
   "metadata": {},
   "outputs": [],
   "source": [
    "signal_endpoint = system_instance + '/g/api/pi-graphql/signal'\n",
    "constraint_violations = {}\n",
    "for constraint in signal_constraints:\n",
    "    query_request = requests.post(\n",
    "        signal_endpoint,\n",
    "        cookies=cookies,\n",
    "        headers=headers,\n",
    "        json={'query': signal_template(constraint)})\n",
    "    if 'data' in query_request.json(): constraint_violations[constraint] = query_request.json()['data'][0][0]"
   ]
  },
  {
   "cell_type": "code",
   "execution_count": null,
   "id": "b70b94f7",
   "metadata": {},
   "outputs": [],
   "source": [
    "print(constraint_violations)"
   ]
  },
  {
   "cell_type": "markdown",
   "id": "5d036faf",
   "metadata": {},
   "source": [
    "Let us now analyze the results. For the sake of simplicity, we focus on the conformance violation count and the conformance rate for two particular constraint.\n",
    "First, we count the total number of cases."
   ]
  },
  {
   "cell_type": "code",
   "execution_count": null,
   "id": "b86b19f7",
   "metadata": {},
   "outputs": [],
   "source": [
    "count_request = requests.post(\n",
    "    signal_endpoint,\n",
    "    cookies=cookies,\n",
    "    headers=headers,\n",
    "    json={'query': 'SELECT COUNT(CASE_ID) FROM \"defaultview-4\"'})\n",
    "case_count = count_request.json()['data'][0][0]\n",
    "print(case_count)"
   ]
  },
  {
   "cell_type": "markdown",
   "id": "5be869b3",
   "metadata": {},
   "source": [
    "Let us now determine the number of violations of the `(^'review request')` constraint (a case should start with the `review request` event), as well as the relative occurence of the violation in percent."
   ]
  },
  {
   "cell_type": "code",
   "execution_count": null,
   "id": "84e6499f",
   "metadata": {},
   "outputs": [],
   "source": [
    "print(\"Number of violations\", constraint_violations[\"(^'review request')\"])\n",
    "print(\"Conformance rate\", (1 - constraint_violations[\"(^'review request')\"] / case_count) * 100)"
   ]
  },
  {
   "cell_type": "code",
   "execution_count": null,
   "id": "96612f73",
   "metadata": {},
   "outputs": [],
   "source": []
  }
 ],
 "metadata": {
  "kernelspec": {
   "display_name": "Python 3 (ipykernel)",
   "language": "python",
   "name": "python3"
  },
  "language_info": {
   "codemirror_mode": {
    "name": "ipython",
    "version": 3
   },
   "file_extension": ".py",
   "mimetype": "text/x-python",
   "name": "python",
   "nbconvert_exporter": "python",
   "pygments_lexer": "ipython3",
   "version": "3.10.2"
  }
 },
 "nbformat": 4,
 "nbformat_minor": 5
}
